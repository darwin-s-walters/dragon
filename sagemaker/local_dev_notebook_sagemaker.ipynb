{
 "cells": [
  {
   "cell_type": "code",
   "execution_count": 28,
   "metadata": {},
   "outputs": [
    {
     "name": "stdout",
     "output_type": "stream",
     "text": [
      "total 612\n",
      "drwxr-xr-x  8 ec2-user ec2-user   4096 Mar  9 03:49 .\n",
      "drwxr-xr-x 15 ec2-user ec2-user   4096 Mar  8 20:23 ..\n",
      "-rw-r--r--  1 ec2-user ec2-user 109995 Mar  9 03:49 Bring_Your_Own-Creating_Algorithm_and_Model_Package.ipynb\n",
      "drwxr-xr-x  5 ec2-user ec2-user   4096 Mar  8 20:01 container\n",
      "drwxr-xr-x  4 ec2-user ec2-user   4096 Mar  9 02:38 data\n",
      "drwxr-xr-x  2 ec2-user ec2-user   4096 Mar  6 12:03 images\n",
      "drwxrwxr-x  2 ec2-user ec2-user   4096 Mar  8 20:09 .ipynb_checkpoints\n",
      "-rw-rw-r--  1 ec2-user ec2-user 481280 Mar  9 01:45 seans_model.tar\n",
      "drwxr-xr-x  2 ec2-user ec2-user   4096 Mar  6 12:03 src\n",
      "drwxrwxr-x  2 ec2-user ec2-user   4096 Mar  8 19:29 Untitled Folder\n"
     ]
    }
   ],
   "source": [
    "%%sh\n",
    "\n",
    "ls -la\n",
    "\n",
    "\n",
    "\n"
   ]
  },
  {
   "cell_type": "markdown",
   "metadata": {},
   "source": [
    "# Building your own container as Algorithm / Model Package\n",
    "\n",
    "With Amazon SageMaker, you can package your own algorithms that can than be trained and deployed in the SageMaker environment. This notebook will guide you through an example that shows you how to build a Docker container for SageMaker and use it for training and inference.\n",
    "\n",
    "This is an extension of the [scikit-bring-your-own notebook](https://github.com/awslabs/amazon-sagemaker-examples/blob/master/advanced_functionality/scikit_bring_your_own/scikit_bring_your_own.ipynb). We append specific steps that help you create a new Algorithm / Model Package SageMaker entities, which can be sold on AWS Marketplace\n",
    "\n",
    "By packaging an algorithm in a container, you can bring almost any code to the Amazon SageMaker environment, regardless of programming language, environment, framework, or dependencies. \n",
    "\n",
    "1. [Building your own algorithm container](#Building-your-own-algorithm-container)\n",
    "  1. [When should I build my own algorithm container?](#When-should-I-build-my-own-algorithm-container?)\n",
    "  1. [Permissions](#Permissions)\n",
    "  1. [The example](#The-example)\n",
    "  1. [The presentation](#The-presentation)\n",
    "1. [Part 1: Packaging and Uploading your Algorithm for use with Amazon SageMaker](#Part-1:-Packaging-and-Uploading-your-Algorithm-for-use-with-Amazon-SageMaker)\n",
    "    1. [An overview of Docker](#An-overview-of-Docker)\n",
    "    1. [How Amazon SageMaker runs your Docker container](#How-Amazon-SageMaker-runs-your-Docker-container)\n",
    "      1. [Running your container during training](#Running-your-container-during-training)\n",
    "        1. [The input](#The-input)\n",
    "        1. [The output](#The-output)\n",
    "      1. [Running your container during hosting](#Running-your-container-during-hosting)\n",
    "    1. [The parts of the sample container](#The-parts-of-the-sample-container)\n",
    "    1. [The Dockerfile](#The-Dockerfile)\n",
    "    1. [Building and registering the container](#Building-and-registering-the-container)\n",
    "  1. [Testing your algorithm on your local machine or on an Amazon SageMaker notebook instance](#Testing-your-algorithm-on-your-local-machine-or-on-an-Amazon-SageMaker-notebook-instance)\n",
    "1. [Part 2: Training and Hosting your Algorithm in Amazon SageMaker](#Part-2:-Training-and-Hosting-your-Algorithm-in-Amazon-SageMaker)\n",
    "  1. [Set up the environment](#Set-up-the-environment)\n",
    "  1. [Create the session](#Create-the-session)\n",
    "  1. [Upload the data for training](#Upload-the-data-for-training)\n",
    "  1. [Create an estimator and fit the model](#Create-an-estimator-and-fit-the-model)\n",
    "  1. [Run a Batch Transform Job](#Batch-Transform-Job)\n",
    "  1. [Deploy the model](#Deploy-the-model)\n",
    "  1. [Optional cleanup](#Cleanup-Endpoint)\n",
    "1. [Part 3: Package your resources as an Amazon SageMaker Algorithm](#Part-3---Package-your-resources-as-an-Amazon-SageMaker-Algorithm)\n",
    "  1. [Algorithm Definition](#Algorithm-Definition)\n",
    "1. [Part 4: Package your resources as an Amazon SageMaker ModelPackage](#Part-4---Package-your-resources-as-an-Amazon-SageMaker-ModelPackage)\n",
    "  1. [Model Package Definition](#Model-Package-Definition)\n",
    "1. [Debugging Creation Issues](#Debugging-Creation-Issues)\n",
    "1. [List on AWS Marketplace](#List-on-AWS-Marketplace)\n",
    "\n",
    "## When should I build my own algorithm container?\n",
    "\n",
    "You may not need to create a container to bring your own code to Amazon SageMaker. When you are using a framework (such as Apache MXNet or TensorFlow) that has direct support in SageMaker, you can simply supply the Python code that implements your algorithm using the SDK entry points for that framework. This set of frameworks is continually expanding, so we recommend that you check the current list if your algorithm is written in a common machine learning environment.\n",
    "\n",
    "Even if there is direct SDK support for your environment or framework, you may find it more effective to build your own container. If the code that implements your algorithm is quite complex on its own or you need special additions to the framework, building your own container may be the right choice.\n",
    "\n",
    "If there isn't direct SDK support for your environment, don't worry. You'll see in this walk-through that building your own container is quite straightforward.\n",
    "\n",
    "## Permissions\n",
    "\n",
    "Running this notebook requires permissions in addition to the normal `SageMakerFullAccess` permissions. This is because we'll creating new repositories in Amazon ECR. The easiest way to add these permissions is simply to add the managed policy `AmazonEC2ContainerRegistryFullAccess` to the role that you used to start your notebook instance. There's no need to restart your notebook instance when you do this, the new permissions will be available immediately.\n",
    "\n",
    "## The example\n",
    "\n",
    "Here, we'll show how to package a simple Python example which showcases the [decision tree][] algorithm from the widely used [scikit-learn][] machine learning package. The example is purposefully fairly trivial since the point is to show the surrounding structure that you'll want to add to your own code so you can train and host it in Amazon SageMaker.\n",
    "\n",
    "The ideas shown here will work in any language or environment. You'll need to choose the right tools for your environment to serve HTTP requests for inference, but good HTTP environments are available in every language these days.\n",
    "\n",
    "In this example, we use a single image to support training and hosting. This is easy because it means that we only need to manage one image and we can set it up to do everything. Sometimes you'll want separate images for training and hosting because they have different requirements. Just separate the parts discussed below into separate Dockerfiles and build two images. Choosing whether to have a single image or two images is really a matter of which is more convenient for you to develop and manage.\n",
    "\n",
    "If you're only using Amazon SageMaker for training or hosting, but not both, there is no need to build the unused functionality into your container.\n",
    "\n",
    "[scikit-learn]: http://scikit-learn.org/stable/\n",
    "[decision tree]: http://scikit-learn.org/stable/modules/tree.html\n",
    "\n",
    "## The presentation\n",
    "\n",
    "This presentation is divided into two parts: _building_ the container and _using_ the container."
   ]
  },
  {
   "cell_type": "markdown",
   "metadata": {},
   "source": [
    "# Part 1: Packaging and Uploading your Algorithm for use with Amazon SageMaker\n",
    "\n",
    "### An overview of Docker\n",
    "\n",
    "If you're familiar with Docker already, you can skip ahead to the next section.\n",
    "\n",
    "For many data scientists, Docker containers are a new concept, but they are not difficult, as you'll see here. \n",
    "\n",
    "Docker provides a simple way to package arbitrary code into an _image_ that is totally self-contained. Once you have an image, you can use Docker to run a _container_ based on that image. Running a container is just like running a program on the machine except that the container creates a fully self-contained environment for the program to run. Containers are isolated from each other and from the host environment, so the way you set up your program is the way it runs, no matter where you run it.\n",
    "\n",
    "Docker is more powerful than environment managers like conda or virtualenv because (a) it is completely language independent and (b) it comprises your whole operating environment, including startup commands, environment variable, etc.\n",
    "\n",
    "In some ways, a Docker container is like a virtual machine, but it is much lighter weight. For example, a program running in a container can start in less than a second and many containers can run on the same physical machine or virtual machine instance.\n",
    "\n",
    "Docker uses a simple file called a `Dockerfile` to specify how the image is assembled. We'll see an example of that below. You can build your Docker images based on Docker images built by yourself or others, which can simplify things quite a bit.\n",
    "\n",
    "Docker has become very popular in the programming and devops communities for its flexibility and well-defined specification of the code to be run. It is the underpinning of many services built in the past few years, such as [Amazon ECS].\n",
    "\n",
    "Amazon SageMaker uses Docker to allow users to train and deploy arbitrary algorithms.\n",
    "\n",
    "In Amazon SageMaker, Docker containers are invoked in a certain way for training and a slightly different way for hosting. The following sections outline how to build containers for the SageMaker environment.\n",
    "\n",
    "Some helpful links:\n",
    "\n",
    "* [Docker home page](http://www.docker.com)\n",
    "* [Getting started with Docker](https://docs.docker.com/get-started/)\n",
    "* [Dockerfile reference](https://docs.docker.com/engine/reference/builder/)\n",
    "* [`docker run` reference](https://docs.docker.com/engine/reference/run/)\n",
    "\n",
    "[Amazon ECS]: https://aws.amazon.com/ecs/\n",
    "\n",
    "### How Amazon SageMaker runs your Docker container\n",
    "\n",
    "Because you can run the same image in training or hosting, Amazon SageMaker runs your container with the argument `train` or `serve`. How your container processes this argument depends on the container:\n",
    "\n",
    "* In the example here, we don't define an `ENTRYPOINT` in the Dockerfile so Docker will run the command `train` at training time and `serve` at serving time. In this example, we define these as executable Python scripts, but they could be any program that we want to start in that environment.\n",
    "* If you specify a program as an `ENTRYPOINT` in the Dockerfile, that program will be run at startup and its first argument will be `train` or `serve`. The program can then look at that argument and decide what to do.\n",
    "* If you are building separate containers for training and hosting (or building only for one or the other), you can define a program as an `ENTRYPOINT` in the Dockerfile and ignore (or verify) the first argument passed in. \n",
    "\n",
    "#### Running your container during training\n",
    "\n",
    "When Amazon SageMaker runs training, your `train` script is run just like a regular Python program. A number of files are laid out for your use, under the `/opt/ml` directory:\n",
    "\n",
    "    /opt/ml\n",
    "    ├── input\n",
    "    │   ├── config\n",
    "    │   │   ├── hyperparameters.json\n",
    "    │   │   └── resourceConfig.json\n",
    "    │   └── data\n",
    "    │       └── <channel_name>\n",
    "    │           └── <input data>\n",
    "    ├── model\n",
    "    │   └── <model files>\n",
    "    └── output\n",
    "        └── failure\n",
    "\n",
    "##### The input\n",
    "\n",
    "* `/opt/ml/input/config` contains information to control how your program runs. `hyperparameters.json` is a JSON-formatted dictionary of hyperparameter names to values. These values will always be strings, so you may need to convert them. `resourceConfig.json` is a JSON-formatted file that describes the network layout used for distributed training. Since scikit-learn doesn't support distributed training, we'll ignore it here.\n",
    "* `/opt/ml/input/data/<channel_name>/` (for File mode) contains the input data for that channel. The channels are created based on the call to CreateTrainingJob but it's generally important that channels match what the algorithm expects. The files for each channel will be copied from S3 to this directory, preserving the tree structure indicated by the S3 key structure. \n",
    "* `/opt/ml/input/data/<channel_name>_<epoch_number>` (for Pipe mode) is the pipe for a given epoch. Epochs start at zero and go up by one each time you read them. There is no limit to the number of epochs that you can run, but you must close each pipe before reading the next epoch.\n",
    "\n",
    "##### The output\n",
    "\n",
    "* `/opt/ml/model/` is the directory where you write the model that your algorithm generates. Your model can be in any format that you want. It can be a single file or a whole directory tree. SageMaker will package any files in this directory into a compressed tar archive file. This file will be available at the S3 location returned in the `DescribeTrainingJob` result.\n",
    "* `/opt/ml/output` is a directory where the algorithm can write a file `failure` that describes why the job failed. The contents of this file will be returned in the `FailureReason` field of the `DescribeTrainingJob` result. For jobs that succeed, there is no reason to write this file as it will be ignored.\n",
    "\n",
    "#### Running your container during hosting\n",
    "\n",
    "Hosting has a very different model than training because hosting is reponding to inference requests that come in via HTTP. In this example, we use our recommended Python serving stack to provide robust and scalable serving of inference requests:\n",
    "\n",
    "![Request serving stack](images/stack.png)\n",
    "\n",
    "This stack is implemented in the sample code here and you can mostly just leave it alone. \n",
    "\n",
    "Amazon SageMaker uses two URLs in the container:\n",
    "\n",
    "* `/ping` will receive `GET` requests from the infrastructure. Your program returns 200 if the container is up and accepting requests.\n",
    "* `/invocations` is the endpoint that receives client inference `POST` requests. The format of the request and the response is up to the algorithm. If the client supplied `ContentType` and `Accept` headers, these will be passed in as well. \n",
    "\n",
    "The container will have the model files in the same place they were written during training:\n",
    "\n",
    "    /opt/ml\n",
    "    └── model\n",
    "        └── <model files>\n",
    "\n"
   ]
  },
  {
   "cell_type": "markdown",
   "metadata": {},
   "source": [
    "### The parts of the sample container\n",
    "\n",
    "In the `container` directory are all the components you need to package the sample algorithm for Amazon SageMager:\n",
    "\n",
    "    .\n",
    "    ├── Dockerfile\n",
    "    ├── build_and_push.sh\n",
    "    └── decision_trees\n",
    "        ├── nginx.conf\n",
    "        ├── predictor.py\n",
    "        ├── serve\n",
    "        ├── train\n",
    "        └── wsgi.py\n",
    "\n",
    "Let's discuss each of these in turn:\n",
    "\n",
    "* __`Dockerfile`__ describes how to build your Docker container image. More details below.\n",
    "* __`build_and_push.sh`__ is a script that uses the Dockerfile to build your container images and then pushes it to ECR. We'll invoke the commands directly later in this notebook, but you can just copy and run the script for your own algorithms.\n",
    "* __`decision_trees`__ is the directory which contains the files that will be installed in the container.\n",
    "* __`local_test`__ is a directory that shows how to test your new container on any computer that can run Docker, including an Amazon SageMaker notebook instance. Using this method, you can quickly iterate using small datasets to eliminate any structural bugs before you use the container with Amazon SageMaker. We'll walk through local testing later in this notebook.\n",
    "\n",
    "In this simple application, we only install five files in the container. You may only need that many or, if you have many supporting routines, you may wish to install more. These five show the standard structure of our Python containers, although you are free to choose a different toolset and therefore could have a different layout. If you're writing in a different programming language, you'll certainly have a different layout depending on the frameworks and tools you choose.\n",
    "\n",
    "The files that we'll put in the container are:\n",
    "\n",
    "* __`nginx.conf`__ is the configuration file for the nginx front-end. Generally, you should be able to take this file as-is.\n",
    "* __`predictor.py`__ is the program that actually implements the Flask web server and the decision tree predictions for this app. You'll want to customize the actual prediction parts to your application. Since this algorithm is simple, we do all the processing here in this file, but you may choose to have separate files for implementing your custom logic.\n",
    "* __`serve`__ is the program started when the container is started for hosting. It simply launches the gunicorn server which runs multiple instances of the Flask app defined in `predictor.py`. You should be able to take this file as-is.\n",
    "* __`train`__ is the program that is invoked when the container is run for training. You will modify this program to implement your training algorithm.\n",
    "* __`wsgi.py`__ is a small wrapper used to invoke the Flask app. You should be able to take this file as-is.\n",
    "\n",
    "In summary, the two files you will probably want to change for your application are `train` and `predictor.py`."
   ]
  },
  {
   "cell_type": "markdown",
   "metadata": {},
   "source": [
    "### The Dockerfile\n",
    "\n",
    "The Dockerfile describes the image that we want to build. You can think of it as describing the complete operating system installation of the system that you want to run. A Docker container running is quite a bit lighter than a full operating system, however, because it takes advantage of Linux on the host machine for the basic operations. \n",
    "\n",
    "For the Python science stack, we will start from a standard Ubuntu installation and run the normal tools to install the things needed by scikit-learn. Finally, we add the code that implements our specific algorithm to the container and set up the right environment to run under.\n",
    "\n",
    "Along the way, we clean up extra space. This makes the container smaller and faster to start.\n",
    "\n",
    "Let's look at the Dockerfile for the example:"
   ]
  },
  {
   "cell_type": "code",
   "execution_count": null,
   "metadata": {},
   "outputs": [],
   "source": [
    "!cat container/Dockerfile"
   ]
  },
  {
   "cell_type": "markdown",
   "metadata": {},
   "source": [
    "### Building and registering the container\n",
    "\n",
    "The following shell code shows how to build the container image using `docker build` and push the container image to ECR using `docker push`. This code is also available as the shell script `container/build-and-push.sh`, which you can run as `build-and-push.sh decision_trees_sample` to build the image `decision_trees_sample`. \n",
    "\n",
    "This code looks for an ECR repository in the account you're using and the current default region (if you're using an Amazon SageMaker notebook instance, this will be the region where the notebook instance was created). If the repository doesn't exist, the script will create it."
   ]
  },
  {
   "cell_type": "code",
   "execution_count": null,
   "metadata": {},
   "outputs": [],
   "source": [
    "%%sh\n",
    "\n",
    "# The name of our algorithm\n",
    "algorithm_name=logistic-regression\n",
    "\n",
    "cd container\n",
    "\n",
    "chmod +x logistic_regression/train\n",
    "chmod +x logistic_regression/serve\n",
    "\n",
    "account=$(aws sts get-caller-identity --query Account --output text)\n",
    "\n",
    "# Get the region defined in the current configuration (default to us-west-2 if none defined)\n",
    "region=$(aws configure get region)\n",
    "# specifically setting to us-east-2 since during the pre-release period, we support only that region.\n",
    "region=${region:-us-east-2}\n",
    "\n",
    "fullname=\"${account}.dkr.ecr.${region}.amazonaws.com/${algorithm_name}:latest\"\n",
    "\n",
    "# If the repository doesn't exist in ECR, create it.\n",
    "\n",
    "aws ecr describe-repositories --repository-names \"${algorithm_name}\" > /dev/null 2>&1\n",
    "\n",
    "if [ $? -ne 0 ]\n",
    "then\n",
    "    aws ecr create-repository --repository-name \"${algorithm_name}\" > /dev/null\n",
    "fi\n",
    "\n",
    "# Get the login command from ECR and execute it directly\n",
    "$(aws ecr get-login --region ${region} --no-include-email)\n",
    "\n",
    "# Build the docker image locally with the image name and then push it to ECR\n",
    "# with the full name.\n",
    "\n",
    "docker build  -t ${algorithm_name} .\n",
    "docker tag ${algorithm_name} ${fullname}\n",
    "\n",
    "docker push ${fullname}"
   ]
  },
  {
   "cell_type": "markdown",
   "metadata": {},
   "source": [
    "## Testing your algorithm on your local machine or on an Amazon SageMaker notebook instance\n",
    "\n",
    "While you're first packaging an algorithm use with Amazon SageMaker, you probably want to test it yourself to make sure it's working right. In the directory `container/local_test`, there is a framework for doing this. It includes three shell scripts for running and using the container and a directory structure that mimics the one outlined above.\n",
    "\n",
    "The scripts are:\n",
    "\n",
    "* `train_local.sh`: Run this with the name of the image and it will run training on the local tree. You'll want to modify the directory `test_dir/input/data/...` to be set up with the correct channels and data for your algorithm. Also, you'll want to modify the file `input/config/hyperparameters.json` to have the hyperparameter settings that you want to test (as strings).\n",
    "* `serve_local.sh`: Run this with the name of the image once you've trained the model and it should serve the model. It will run and wait for requests. Simply use the keyboard interrupt to stop it.\n",
    "* `predict.sh`: Run this with the name of a payload file and (optionally) the HTTP content type you want. The content type will default to `text/csv`. For example, you can run `$ ./predict.sh payload.csv text/csv`.\n",
    "\n",
    "The directories as shipped are set up to test the decision trees sample algorithm presented here."
   ]
  },
  {
   "cell_type": "code",
   "execution_count": null,
   "metadata": {},
   "outputs": [],
   "source": [
    "%%sh\n",
    "\n",
    "cd container/local_test\n",
    "#./train_local.sh logistic_regression\n",
    "\n",
    "#docker ps\n",
    "\n",
    "#./serve_local.sh logistic_regression\n",
    "\n",
    "#./predict.sh payload.csv \"text/csv\"\n"
   ]
  },
  {
   "cell_type": "code",
   "execution_count": null,
   "metadata": {},
   "outputs": [],
   "source": [
    "%%sh\n",
    "\n",
    "cd container/local_test\n",
    "\n",
    "#./predict.sh payload.csv \"text/csv\"\n",
    "\n",
    "docker ps"
   ]
  },
  {
   "cell_type": "markdown",
   "metadata": {},
   "source": [
    "# Part 2: Training, Batch Inference and Hosting your Algorithm in Amazon SageMaker\n",
    "\n",
    "Once you have your container packaged, you can use it to train and serve models. Let's do that with the algorithm we made above.\n",
    "\n",
    "## Set up the environment\n",
    "\n",
    "Here we specify a bucket to use and the role that will be used for working with Amazon SageMaker."
   ]
  },
  {
   "cell_type": "code",
   "execution_count": 27,
   "metadata": {},
   "outputs": [],
   "source": [
    "# S3 prefix\n",
    "common_prefix = \"DEMO-sean-test\"\n",
    "training_input_prefix = common_prefix + \"/training-input-data\"\n",
    "batch_inference_input_prefix = common_prefix + \"/batch-inference-input-data\"\n",
    "\n",
    "import os\n",
    "from sagemaker import get_execution_role\n",
    "\n",
    "role = get_execution_role()"
   ]
  },
  {
   "cell_type": "markdown",
   "metadata": {},
   "source": [
    "## Create the session\n",
    "\n",
    "The session remembers our connection parameters to Amazon SageMaker. We'll use it to perform all of our SageMaker operations."
   ]
  },
  {
   "cell_type": "code",
   "execution_count": 3,
   "metadata": {},
   "outputs": [],
   "source": [
    "import sagemaker as sage\n",
    "\n",
    "sess = sage.Session()"
   ]
  },
  {
   "cell_type": "markdown",
   "metadata": {},
   "source": [
    "## Upload the data for training\n",
    "\n",
    "When training large models with huge amounts of data, you'll typically use big data tools, like Amazon Athena, AWS Glue, or Amazon EMR, to create your data in S3. For the purposes of this example, we're using some the classic [Iris dataset](https://en.wikipedia.org/wiki/Iris_flower_data_set), which we have included. \n",
    "\n",
    "We can use use the tools provided by the Amazon SageMaker Python SDK to upload the data to a default bucket. "
   ]
  },
  {
   "cell_type": "code",
   "execution_count": 4,
   "metadata": {},
   "outputs": [
    {
     "name": "stderr",
     "output_type": "stream",
     "text": [
      "INFO:sagemaker:Created S3 bucket: sagemaker-us-east-1-318775028588\n"
     ]
    },
    {
     "name": "stdout",
     "output_type": "stream",
     "text": [
      "Training Data Location s3://sagemaker-us-east-1-318775028588/DEMO-sean-test/training-input-data\n"
     ]
    }
   ],
   "source": [
    "TRAINING_WORKDIR = \"data/training\"\n",
    "\n",
    "training_input = sess.upload_data(TRAINING_WORKDIR, key_prefix=training_input_prefix)\n",
    "print (\"Training Data Location \" + training_input)"
   ]
  },
  {
   "cell_type": "markdown",
   "metadata": {},
   "source": [
    "## Create an estimator and fit the model\n",
    "\n",
    "In order to use Amazon SageMaker to fit our algorithm, we'll create an `Estimator` that defines how to use the container to train. This includes the configuration we need to invoke SageMaker training:\n",
    "\n",
    "* The __container name__. This is constructed as in the shell commands above.\n",
    "* The __role__. As defined above.\n",
    "* The __instance count__ which is the number of machines to use for training.\n",
    "* The __instance type__ which is the type of machine to use for training.\n",
    "* The __output path__ determines where the model artifact will be written.\n",
    "* The __session__ is the SageMaker session object that we defined above.\n",
    "\n",
    "Then we use fit() on the estimator to train against the data that we uploaded above."
   ]
  },
  {
   "cell_type": "code",
   "execution_count": 5,
   "metadata": {},
   "outputs": [],
   "source": [
    "account = sess.boto_session.client('sts').get_caller_identity()['Account']\n",
    "region = sess.boto_session.region_name\n",
    "image = '{}.dkr.ecr.{}.amazonaws.com/logistic-regression:latest'.format(account, region)"
   ]
  },
  {
   "cell_type": "code",
   "execution_count": 7,
   "metadata": {},
   "outputs": [
    {
     "name": "stderr",
     "output_type": "stream",
     "text": [
      "INFO:sagemaker:Creating training-job with name: logistic-regression-2019-03-09-02-39-02-746\n"
     ]
    },
    {
     "name": "stdout",
     "output_type": "stream",
     "text": [
      "2019-03-09 02:39:02 Starting - Starting the training job...\n",
      "2019-03-09 02:39:04 Starting - Launching requested ML instances......\n",
      "2019-03-09 02:40:09 Starting - Preparing the instances for training......\n",
      "2019-03-09 02:41:28 Downloading - Downloading input data\n",
      "2019-03-09 02:41:28 Training - Training image download completed. Training in progress.\n",
      "2019-03-09 02:41:28 Uploading - Uploading generated training model\n",
      "\u001b[31mStarting the training.\u001b[0m\n",
      "\u001b[31m['/opt/ml/input/data/training/cleaned_train.csv']\u001b[0m\n",
      "\u001b[31m[     Unnamed: 0  Survived  ...  age_group_teenager  age_group_toddler\u001b[0m\n",
      "\u001b[31m0             0         0  ...                   0                  0\u001b[0m\n",
      "\u001b[31m1             1         1  ...                   0                  0\u001b[0m\n",
      "\u001b[31m2             2         1  ...                   0                  0\u001b[0m\n",
      "\u001b[31m3             3         1  ...                   0                  0\u001b[0m\n",
      "\u001b[31m4             4         0  ...                   0                  0\u001b[0m\n",
      "\u001b[31m5             5         0  ...                   0                  0\u001b[0m\n",
      "\u001b[31m6             6         0  ...                   0                  0\u001b[0m\n",
      "\u001b[31m7             7         0  ...                   0                  1\u001b[0m\n",
      "\u001b[31m8             8         1  ...                   0                  0\u001b[0m\n",
      "\u001b[31m9             9         1  ...                   1                  0\u001b[0m\n",
      "\u001b[31m10           10         1  ...                   0                  1\u001b[0m\n",
      "\u001b[31m11           11         1  ...                   0                  0\u001b[0m\n",
      "\u001b[31m12           12         0  ...                   0                  0\u001b[0m\n",
      "\u001b[31m13           13         0  ...                   0                  0\u001b[0m\n",
      "\u001b[31m14           14         0  ...                   1                  0\u001b[0m\n",
      "\u001b[31m15           15         1  ...                   0                  0\u001b[0m\n",
      "\u001b[31m16           16         0  ...                   0                  1\u001b[0m\n",
      "\u001b[31m17           17         1  ...                   0                  0\u001b[0m\n",
      "\u001b[31m18           18         0  ...                   0                  0\u001b[0m\n",
      "\u001b[31m19           19         1  ...                   0                  0\u001b[0m\n",
      "\u001b[31m20           20         0  ...                   0                  0\u001b[0m\n",
      "\u001b[31m21           21         1  ...                   0                  0\u001b[0m\n",
      "\u001b[31m22           22         1  ...                   1                  0\u001b[0m\n",
      "\u001b[31m23           23         1  ...                   0                  0\u001b[0m\n",
      "\u001b[31m24           24         0  ...                   0                  0\u001b[0m\n",
      "\u001b[31m25           25         1  ...                   0                  0\u001b[0m\n",
      "\u001b[31m26           26         0  ...                   0                  0\u001b[0m\n",
      "\u001b[31m27           27         0  ...                   0                  0\u001b[0m\n",
      "\u001b[31m28           28         1  ...                   0                  0\u001b[0m\n",
      "\u001b[31m29           29         0  ...                   0                  0\u001b[0m\n",
      "\u001b[31m..          ...       ...  ...                 ...                ...\u001b[0m\n",
      "\u001b[31m858         861         0  ...                   0                  0\u001b[0m\n",
      "\u001b[31m859         862         1  ...                   0                  0\u001b[0m\n",
      "\u001b[31m860         863         0  ...                   0                  0\u001b[0m\n",
      "\u001b[31m861         864         0  ...                   0                  0\u001b[0m\n",
      "\u001b[31m862         865         1  ...                   0                  0\u001b[0m\n",
      "\u001b[31m863         866         1  ...                   0                  0\u001b[0m\n",
      "\u001b[31m864         867         0  ...                   0                  0\u001b[0m\n",
      "\u001b[31m865         868         0  ...                   0                  0\u001b[0m\n",
      "\u001b[31m866         869         1  ...                   0                  1\u001b[0m\n",
      "\u001b[31m867         870         0  ...                   0                  0\u001b[0m\n",
      "\u001b[31m868         871         1  ...                   0                  0\u001b[0m\n",
      "\u001b[31m869         872         0  ...                   0                  0\u001b[0m\n",
      "\u001b[31m870         873         0  ...                   0                  0\u001b[0m\n",
      "\u001b[31m871         874         1  ...                   0                  0\u001b[0m\n",
      "\u001b[31m872         875         1  ...                   1                  0\u001b[0m\n",
      "\u001b[31m873         876         0  ...                   0                  0\u001b[0m\n",
      "\u001b[31m874         877         0  ...                   0                  0\u001b[0m\n",
      "\u001b[31m875         878         0  ...                   0                  0\u001b[0m\n",
      "\u001b[31m876         879         1  ...                   0                  0\u001b[0m\n",
      "\u001b[31m877         880         1  ...                   0                  0\u001b[0m\n",
      "\u001b[31m878         881         0  ...                   0                  0\u001b[0m\n",
      "\u001b[31m879         882         0  ...                   0                  0\u001b[0m\n",
      "\u001b[31m880         883         0  ...                   0                  0\u001b[0m\n",
      "\u001b[31m881         884         0  ...                   0                  0\u001b[0m\n",
      "\u001b[31m882         885         0  ...                   0                  0\u001b[0m\n",
      "\u001b[31m883         886         0  ...                   0                  0\u001b[0m\n",
      "\u001b[31m884         887         1  ...                   0                  0\u001b[0m\n",
      "\u001b[31m885         888         0  ...                   0                  0\u001b[0m\n",
      "\u001b[31m886         889         1  ...                   0                  0\u001b[0m\n",
      "\u001b[31m887         890         0  ...                   0                  0\n",
      "\u001b[0m\n",
      "\u001b[31m[888 rows x 47 columns]]\u001b[0m\n",
      "\u001b[31m/usr/local/lib/python2.7/dist-packages/sklearn/preprocessing/data.py:645: DataConversionWarning: Data with input dtype int64, float64 were all converted to float64 by StandardScaler.\n",
      "  return self.partial_fit(X, y)\u001b[0m\n",
      "\u001b[31m/usr/local/lib/python2.7/dist-packages/sklearn/base.py:464: DataConversionWarning: Data with input dtype int64, float64 were all converted to float64 by StandardScaler.\n",
      "  return self.fit(X, **fit_params).transform(X)\u001b[0m\n",
      "\u001b[31m/opt/program/train:76: DataConversionWarning: Data with input dtype int64, float64 were all converted to float64 by StandardScaler.\n",
      "  test_x = sc.transform(test_x)\u001b[0m\n",
      "\u001b[31m/usr/local/lib/python2.7/dist-packages/sklearn/linear_model/logistic.py:433: FutureWarning: Default solver will be changed to 'lbfgs' in 0.22. Specify a solver to silence this warning.\n",
      "  FutureWarning)\u001b[0m\n",
      "\u001b[31mvalidation-accuracy: 0.8351208669074743\u001b[0m\n",
      "\u001b[31mTraining complete.\u001b[0m\n",
      "\u001b[31mLogisticRegression(C=1.0, class_weight=None, dual=False, fit_intercept=True,\n",
      "          intercept_scaling=1, max_iter=100, multi_class='warn',\n",
      "          n_jobs=None, penalty='l2', random_state=None, solver='warn',\n",
      "          tol=0.0001, verbose=0, warm_start=False)\u001b[0m\n",
      "\n",
      "2019-03-09 02:41:34 Completed - Training job completed\n",
      "Billable seconds: 30\n"
     ]
    }
   ],
   "source": [
    "tree = sage.estimator.Estimator(image,\n",
    "                       role, 1, 'ml.c4.2xlarge',\n",
    "                       output_path=\"s3://{}/output\".format(sess.default_bucket()),\n",
    "                       sagemaker_session=sess)\n",
    "tree.fit(training_input)"
   ]
  },
  {
   "cell_type": "code",
   "execution_count": 8,
   "metadata": {},
   "outputs": [
    {
     "data": {
      "text/plain": [
       "'s3://sagemaker-us-east-1-318775028588/output/logistic-regression-2019-03-09-02-39-02-746/output/model.tar.gz'"
      ]
     },
     "execution_count": 8,
     "metadata": {},
     "output_type": "execute_result"
    }
   ],
   "source": [
    "tree.model_data"
   ]
  },
  {
   "cell_type": "markdown",
   "metadata": {},
   "source": [
    "## Batch Transform Job\n",
    "\n",
    "Now let's use the model built to run a batch inference job and verify it works.\n"
   ]
  },
  {
   "cell_type": "markdown",
   "metadata": {},
   "source": [
    "### Batch Transform Input Preparation\n",
    "\n",
    "The snippet below is removing the \"label\" column (column indexed at 0) and retaining the rest to be batch transform's input. \n",
    "\n",
    "NOTE: This is the same training data, which is a no-no from a statistical/ML science perspective. But the aim of this notebook is to demonstrate how things work end-to-end."
   ]
  },
  {
   "cell_type": "code",
   "execution_count": null,
   "metadata": {},
   "outputs": [],
   "source": [
    "import pandas as pd\n",
    "\n",
    "## Remove first column that contains the label\n",
    "shape=pd.read_csv(TRAINING_WORKDIR + \"/iris.csv\", header=None).drop([0], axis=1)\n",
    "\n",
    "TRANSFORM_WORKDIR = \"data/transform\"\n",
    "shape.to_csv(TRANSFORM_WORKDIR + \"/batchtransform_test.csv\", index=False, header=False)\n",
    "\n",
    "transform_input = sess.upload_data(TRANSFORM_WORKDIR, key_prefix=batch_inference_input_prefix) + \"/batchtransform_test.csv\"\n",
    "print(\"Transform input uploaded to \" + transform_input)"
   ]
  },
  {
   "cell_type": "markdown",
   "metadata": {},
   "source": [
    "### Run Batch Transform\n",
    "\n",
    "Now that our batch transform input is setup, we run the transformation job next"
   ]
  },
  {
   "cell_type": "code",
   "execution_count": null,
   "metadata": {},
   "outputs": [],
   "source": [
    "transformer = tree.transformer(instance_count=1, instance_type='ml.m4.xlarge')\n",
    "transformer.transform(transform_input, content_type='text/csv')\n",
    "transformer.wait()\n",
    "\n",
    "print(\"Batch Transform output saved to \" + transformer.output_path)"
   ]
  },
  {
   "cell_type": "markdown",
   "metadata": {},
   "source": [
    "#### Inspect the Batch Transform Output in S3"
   ]
  },
  {
   "cell_type": "code",
   "execution_count": null,
   "metadata": {},
   "outputs": [],
   "source": [
    "from urllib.parse import urlparse\n",
    "\n",
    "parsed_url = urlparse(transformer.output_path)\n",
    "bucket_name = parsed_url.netloc\n",
    "file_key = '{}/{}.out'.format(parsed_url.path[1:], \"batchtransform_test.csv\")\n",
    "\n",
    "s3_client = sess.boto_session.client('s3')\n",
    "\n",
    "response = s3_client.get_object(Bucket = sess.default_bucket(), Key = file_key)\n",
    "response_bytes = response['Body'].read().decode('utf-8')\n",
    "print(response_bytes)"
   ]
  },
  {
   "cell_type": "markdown",
   "metadata": {},
   "source": [
    "## Deploy the model\n",
    "\n",
    "Deploying the model to Amazon SageMaker hosting just requires a `deploy` call on the fitted model. This call takes an instance count, instance type, and optionally serializer and deserializer functions. These are used when the resulting predictor is created on the endpoint."
   ]
  },
  {
   "cell_type": "code",
   "execution_count": 26,
   "metadata": {
    "scrolled": true
   },
   "outputs": [
    {
     "name": "stderr",
     "output_type": "stream",
     "text": [
      "INFO:sagemaker:Creating model with name: logistic-regression-2019-03-09-03-25-33-871\n",
      "INFO:sagemaker:Creating endpoint with name logistic-regression-2019-03-09-02-39-02-746\n"
     ]
    },
    {
     "name": "stdout",
     "output_type": "stream",
     "text": [
      "---------------------------------------------------------------------------!"
     ]
    }
   ],
   "source": [
    "from sagemaker.predictor import csv_serializer\n",
    "\n",
    "model = tree.create_model()\n",
    "\n",
    "#print(model)\n",
    "\n",
    "predictor = tree.deploy(1, 'ml.m4.xlarge', serializer=csv_serializer)"
   ]
  },
  {
   "cell_type": "code",
   "execution_count": 25,
   "metadata": {},
   "outputs": [
    {
     "ename": "ParamValidationError",
     "evalue": "Parameter validation failed:\nInvalid type for parameter Body, value:      Unnamed: 0        Age  Sex  SibSp  Parch  is_alone  calculated_fare  \\\n0             0  34.500000    1      0      0         1         7.829200   \n1             1  47.000000    0      1      0         0         3.500000   \n2             2  62.000000    1      0      0         1         9.687500   \n3             3  27.000000    1      0      0         1         8.662500   \n4             4  22.000000    0      1      1         0         4.095833   \n5             5  14.000000    1      0      0         1         9.225000   \n6             6  30.000000    0      0      0         1         7.629200   \n7             7  26.000000    1      1      1         0         9.666667   \n8             8  18.000000    0      0      0         1         7.229200   \n9             9  21.000000    1      2      0         0         8.050000   \n10           10  25.228127    1      0      0         1         7.895800   \n11           11  46.000000    1      0      0         1        26.000000   \n12           12  23.000000    0      1      0         0        41.133350   \n13           13  63.000000    1      1      0         0        13.000000   \n14           14  47.000000    0      1      0         0        30.587500   \n15           15  24.000000    0      1      0         0        13.860400   \n16           16  35.000000    1      0      0         1        12.350000   \n17           17  21.000000    1      0      0         1         7.225000   \n18           18  27.000000    0      1      0         0         3.962500   \n19           19  45.000000    0      0      0         1         7.225000   \n20           20  55.000000    1      1      0         0        29.700000   \n21           21   9.000000    1      0      1         0         1.585400   \n22           22  44.144667    0      0      0         1        31.683300   \n23           23  21.000000    1      0      1         0        30.689600   \n24           24  48.000000    0      1      3         0        52.475000   \n25           25  50.000000    1      1      0         0         7.250000   \n26           26  22.000000    0      0      1         0        30.989600   \n27           27  22.500000    1      0      0         1         7.225000   \n28           28  41.000000    1      0      0         1        30.500000   \n29           29  23.589072    1      2      0         0         7.226400   \n..          ...        ...  ...    ...    ...       ...              ...   \n388         388  21.000000    1      0      0         1         7.750000   \n389         389   6.000000    1      3      1         0         4.215000   \n390         390  23.000000    1      0      0         1        93.500000   \n391         391  51.000000    0      0      1         0        19.700000   \n392         392  13.000000    1      0      2         0         6.750000   \n393         393  47.000000    1      0      0         1        10.500000   \n394         394  29.000000    1      3      1         0         4.405000   \n395         395  18.000000    0      1      0         0        30.000000   \n396         396  24.000000    1      0      0         1         7.250000   \n397         397  48.000000    0      1      1         0        26.400000   \n398         398  22.000000    1      0      0         1         7.775000   \n399         399  31.000000    1      0      0         1         7.733300   \n400         400  30.000000    0      0      0         1       164.866700   \n401         401  38.000000    1      1      0         0        10.500000   \n402         402  22.000000    0      0      1         0        29.700000   \n403         403  17.000000    1      0      0         1        47.100000   \n404         404  43.000000    1      1      0         0        13.860400   \n405         405  20.000000    1      0      0         1        13.862500   \n406         406  23.000000    1      1      0         0         5.250000   \n407         407  50.000000    1      1      1         0        70.500000   \n408         408  22.150434    0      0      0         1         7.720800   \n409         409   3.000000    0      1      1         0         4.591667   \n410         410  27.691011    0      0      0         1         7.750000   \n411         411  37.000000    0      1      0         0        45.000000   \n412         412  28.000000    0      0      0         1         7.775000   \n413         413  23.299735    1      0      0         1         8.050000   \n414         414  39.000000    0      0      0         1       108.900000   \n415         415  38.500000    1      0      0         1         7.250000   \n416         416  23.299735    1      0      0         1         8.050000   \n417         417   7.225783    1      1      1         0         7.452767   \n\n     title_ Master  title_ Miss  title_ Mr        ...          fare_group_mid  \\\n0                0            0          1        ...                       0   \n1                0            0          0        ...                       0   \n2                0            0          1        ...                       0   \n3                0            0          1        ...                       0   \n4                0            0          0        ...                       0   \n5                0            0          1        ...                       0   \n6                0            1          0        ...                       0   \n7                0            0          1        ...                       0   \n8                0            0          0        ...                       0   \n9                0            0          1        ...                       0   \n10               0            0          1        ...                       0   \n11               0            0          1        ...                       0   \n12               0            0          0        ...                       0   \n13               0            0          1        ...                       1   \n14               0            0          0        ...                       0   \n15               0            0          0        ...                       1   \n16               0            0          1        ...                       1   \n17               0            0          1        ...                       0   \n18               0            1          0        ...                       0   \n19               0            0          0        ...                       0   \n20               0            0          1        ...                       0   \n21               1            0          0        ...                       0   \n22               0            0          0        ...                       0   \n23               0            0          1        ...                       0   \n24               0            0          0        ...                       0   \n25               0            0          1        ...                       0   \n26               0            1          0        ...                       0   \n27               0            0          1        ...                       0   \n28               0            0          1        ...                       0   \n29               0            0          1        ...                       0   \n..             ...          ...        ...        ...                     ...   \n388              0            0          1        ...                       0   \n389              1            0          0        ...                       0   \n390              0            0          1        ...                       0   \n391              0            0          0        ...                       1   \n392              1            0          0        ...                       0   \n393              0            0          1        ...                       1   \n394              0            0          1        ...                       0   \n395              0            0          0        ...                       0   \n396              0            0          1        ...                       0   \n397              0            0          0        ...                       0   \n398              0            0          1        ...                       0   \n399              0            0          1        ...                       0   \n400              0            1          0        ...                       0   \n401              0            0          1        ...                       1   \n402              0            1          0        ...                       0   \n403              0            0          1        ...                       0   \n404              0            0          1        ...                       1   \n405              0            0          1        ...                       1   \n406              0            0          1        ...                       0   \n407              0            0          1        ...                       0   \n408              0            1          0        ...                       0   \n409              0            1          0        ...                       0   \n410              0            1          0        ...                       0   \n411              0            0          0        ...                       0   \n412              0            1          0        ...                       0   \n413              0            0          1        ...                       0   \n414              0            0          0        ...                       0   \n415              0            0          1        ...                       0   \n416              0            0          1        ...                       0   \n417              1            0          0        ...                       0   \n\n     fare_group_very_high  age_group_adult  age_group_child  age_group_infant  \\\n0                       0                0                0                 0   \n1                       0                0                0                 0   \n2                       0                0                0                 0   \n3                       0                0                0                 0   \n4                       0                0                0                 0   \n5                       0                0                0                 0   \n6                       0                0                0                 0   \n7                       0                0                0                 0   \n8                       0                0                0                 0   \n9                       0                0                0                 0   \n10                      0                0                0                 0   \n11                      0                0                0                 0   \n12                      0                0                0                 0   \n13                      0                0                0                 0   \n14                      0                0                0                 0   \n15                      0                0                0                 0   \n16                      0                0                0                 0   \n17                      0                0                0                 0   \n18                      0                0                0                 0   \n19                      0                1                0                 0   \n20                      0                0                0                 0   \n21                      0                0                1                 0   \n22                      0                1                0                 0   \n23                      0                0                0                 0   \n24                      1                0                0                 0   \n25                      0                0                0                 0   \n26                      0                0                0                 0   \n27                      0                0                0                 0   \n28                      0                1                0                 0   \n29                      0                0                0                 0   \n..                    ...              ...              ...               ...   \n388                     0                0                0                 0   \n389                     0                0                1                 0   \n390                     1                0                0                 0   \n391                     0                0                0                 0   \n392                     0                0                1                 0   \n393                     0                0                0                 0   \n394                     0                0                0                 0   \n395                     0                0                0                 0   \n396                     0                0                0                 0   \n397                     0                0                0                 0   \n398                     0                0                0                 0   \n399                     0                0                0                 0   \n400                     1                0                0                 0   \n401                     0                1                0                 0   \n402                     0                0                0                 0   \n403                     1                0                0                 0   \n404                     0                1                0                 0   \n405                     0                0                0                 0   \n406                     0                0                0                 0   \n407                     1                0                0                 0   \n408                     0                0                0                 0   \n409                     0                0                0                 0   \n410                     0                0                0                 0   \n411                     0                1                0                 0   \n412                     0                0                0                 0   \n413                     0                0                0                 0   \n414                     1                1                0                 0   \n415                     0                1                0                 0   \n416                     0                0                0                 0   \n417                     0                0                1                 0   \n\n     age_group_middle_aged  age_group_old  age_group_senior_citizen  \\\n0                        0              0                         0   \n1                        1              0                         0   \n2                        0              0                         1   \n3                        0              0                         0   \n4                        0              0                         0   \n5                        0              0                         0   \n6                        0              0                         0   \n7                        0              0                         0   \n8                        0              0                         0   \n9                        0              0                         0   \n10                       0              0                         0   \n11                       1              0                         0   \n12                       0              0                         0   \n13                       0              0                         1   \n14                       1              0                         0   \n15                       0              0                         0   \n16                       0              0                         0   \n17                       0              0                         0   \n18                       0              0                         0   \n19                       0              0                         0   \n20                       1              0                         0   \n21                       0              0                         0   \n22                       0              0                         0   \n23                       0              0                         0   \n24                       1              0                         0   \n25                       1              0                         0   \n26                       0              0                         0   \n27                       0              0                         0   \n28                       0              0                         0   \n29                       0              0                         0   \n..                     ...            ...                       ...   \n388                      0              0                         0   \n389                      0              0                         0   \n390                      0              0                         0   \n391                      1              0                         0   \n392                      0              0                         0   \n393                      1              0                         0   \n394                      0              0                         0   \n395                      0              0                         0   \n396                      0              0                         0   \n397                      1              0                         0   \n398                      0              0                         0   \n399                      0              0                         0   \n400                      0              0                         0   \n401                      0              0                         0   \n402                      0              0                         0   \n403                      0              0                         0   \n404                      0              0                         0   \n405                      0              0                         0   \n406                      0              0                         0   \n407                      1              0                         0   \n408                      0              0                         0   \n409                      0              0                         0   \n410                      0              0                         0   \n411                      0              0                         0   \n412                      0              0                         0   \n413                      0              0                         0   \n414                      0              0                         0   \n415                      0              0                         0   \n416                      0              0                         0   \n417                      0              0                         0   \n\n     age_group_teenager  age_group_toddler  \n0                     0                  0  \n1                     0                  0  \n2                     0                  0  \n3                     0                  0  \n4                     0                  0  \n5                     1                  0  \n6                     0                  0  \n7                     0                  0  \n8                     1                  0  \n9                     0                  0  \n10                    0                  0  \n11                    0                  0  \n12                    0                  0  \n13                    0                  0  \n14                    0                  0  \n15                    0                  0  \n16                    0                  0  \n17                    0                  0  \n18                    0                  0  \n19                    0                  0  \n20                    0                  0  \n21                    0                  0  \n22                    0                  0  \n23                    0                  0  \n24                    0                  0  \n25                    0                  0  \n26                    0                  0  \n27                    0                  0  \n28                    0                  0  \n29                    0                  0  \n..                  ...                ...  \n388                   0                  0  \n389                   0                  0  \n390                   0                  0  \n391                   0                  0  \n392                   0                  0  \n393                   0                  0  \n394                   0                  0  \n395                   1                  0  \n396                   0                  0  \n397                   0                  0  \n398                   0                  0  \n399                   0                  0  \n400                   0                  0  \n401                   0                  0  \n402                   0                  0  \n403                   1                  0  \n404                   0                  0  \n405                   0                  0  \n406                   0                  0  \n407                   0                  0  \n408                   0                  0  \n409                   0                  1  \n410                   0                  0  \n411                   0                  0  \n412                   0                  0  \n413                   0                  0  \n414                   0                  0  \n415                   0                  0  \n416                   0                  0  \n417                   0                  0  \n\n[418 rows x 46 columns], type: <class 'pandas.core.frame.DataFrame'>, valid types: <class 'bytes'>, <class 'bytearray'>, file-like object",
     "output_type": "error",
     "traceback": [
      "\u001b[0;31m---------------------------------------------------------------------------\u001b[0m",
      "\u001b[0;31mParamValidationError\u001b[0m                      Traceback (most recent call last)",
      "\u001b[0;32m<ipython-input-25-d380b6a1fda4>\u001b[0m in \u001b[0;36m<module>\u001b[0;34m()\u001b[0m\n\u001b[1;32m      8\u001b[0m \u001b[0;31m#print (raw_data)\u001b[0m\u001b[0;34m\u001b[0m\u001b[0;34m\u001b[0m\u001b[0m\n\u001b[1;32m      9\u001b[0m \u001b[0;34m\u001b[0m\u001b[0m\n\u001b[0;32m---> 10\u001b[0;31m \u001b[0mprint\u001b[0m\u001b[0;34m(\u001b[0m\u001b[0mnewpredictor\u001b[0m\u001b[0;34m.\u001b[0m\u001b[0mpredict\u001b[0m\u001b[0;34m(\u001b[0m\u001b[0mraw_data\u001b[0m\u001b[0;34m)\u001b[0m\u001b[0;34m)\u001b[0m\u001b[0;34m\u001b[0m\u001b[0m\n\u001b[0m",
      "\u001b[0;32m~/anaconda3/envs/python3/lib/python3.6/site-packages/sagemaker/predictor.py\u001b[0m in \u001b[0;36mpredict\u001b[0;34m(self, data, initial_args)\u001b[0m\n\u001b[1;32m     76\u001b[0m \u001b[0;34m\u001b[0m\u001b[0m\n\u001b[1;32m     77\u001b[0m         \u001b[0mrequest_args\u001b[0m \u001b[0;34m=\u001b[0m \u001b[0mself\u001b[0m\u001b[0;34m.\u001b[0m\u001b[0m_create_request_args\u001b[0m\u001b[0;34m(\u001b[0m\u001b[0mdata\u001b[0m\u001b[0;34m,\u001b[0m \u001b[0minitial_args\u001b[0m\u001b[0;34m)\u001b[0m\u001b[0;34m\u001b[0m\u001b[0m\n\u001b[0;32m---> 78\u001b[0;31m         \u001b[0mresponse\u001b[0m \u001b[0;34m=\u001b[0m \u001b[0mself\u001b[0m\u001b[0;34m.\u001b[0m\u001b[0msagemaker_session\u001b[0m\u001b[0;34m.\u001b[0m\u001b[0msagemaker_runtime_client\u001b[0m\u001b[0;34m.\u001b[0m\u001b[0minvoke_endpoint\u001b[0m\u001b[0;34m(\u001b[0m\u001b[0;34m**\u001b[0m\u001b[0mrequest_args\u001b[0m\u001b[0;34m)\u001b[0m\u001b[0;34m\u001b[0m\u001b[0m\n\u001b[0m\u001b[1;32m     79\u001b[0m         \u001b[0;32mreturn\u001b[0m \u001b[0mself\u001b[0m\u001b[0;34m.\u001b[0m\u001b[0m_handle_response\u001b[0m\u001b[0;34m(\u001b[0m\u001b[0mresponse\u001b[0m\u001b[0;34m)\u001b[0m\u001b[0;34m\u001b[0m\u001b[0m\n\u001b[1;32m     80\u001b[0m \u001b[0;34m\u001b[0m\u001b[0m\n",
      "\u001b[0;32m~/anaconda3/envs/python3/lib/python3.6/site-packages/botocore/client.py\u001b[0m in \u001b[0;36m_api_call\u001b[0;34m(self, *args, **kwargs)\u001b[0m\n\u001b[1;32m    318\u001b[0m                     \"%s() only accepts keyword arguments.\" % py_operation_name)\n\u001b[1;32m    319\u001b[0m             \u001b[0;31m# The \"self\" in this scope is referring to the BaseClient.\u001b[0m\u001b[0;34m\u001b[0m\u001b[0;34m\u001b[0m\u001b[0m\n\u001b[0;32m--> 320\u001b[0;31m             \u001b[0;32mreturn\u001b[0m \u001b[0mself\u001b[0m\u001b[0;34m.\u001b[0m\u001b[0m_make_api_call\u001b[0m\u001b[0;34m(\u001b[0m\u001b[0moperation_name\u001b[0m\u001b[0;34m,\u001b[0m \u001b[0mkwargs\u001b[0m\u001b[0;34m)\u001b[0m\u001b[0;34m\u001b[0m\u001b[0m\n\u001b[0m\u001b[1;32m    321\u001b[0m \u001b[0;34m\u001b[0m\u001b[0m\n\u001b[1;32m    322\u001b[0m         \u001b[0m_api_call\u001b[0m\u001b[0;34m.\u001b[0m\u001b[0m__name__\u001b[0m \u001b[0;34m=\u001b[0m \u001b[0mstr\u001b[0m\u001b[0;34m(\u001b[0m\u001b[0mpy_operation_name\u001b[0m\u001b[0;34m)\u001b[0m\u001b[0;34m\u001b[0m\u001b[0m\n",
      "\u001b[0;32m~/anaconda3/envs/python3/lib/python3.6/site-packages/botocore/client.py\u001b[0m in \u001b[0;36m_make_api_call\u001b[0;34m(self, operation_name, api_params)\u001b[0m\n\u001b[1;32m    595\u001b[0m         }\n\u001b[1;32m    596\u001b[0m         request_dict = self._convert_to_request_dict(\n\u001b[0;32m--> 597\u001b[0;31m             api_params, operation_model, context=request_context)\n\u001b[0m\u001b[1;32m    598\u001b[0m \u001b[0;34m\u001b[0m\u001b[0m\n\u001b[1;32m    599\u001b[0m         \u001b[0mservice_id\u001b[0m \u001b[0;34m=\u001b[0m \u001b[0mself\u001b[0m\u001b[0;34m.\u001b[0m\u001b[0m_service_model\u001b[0m\u001b[0;34m.\u001b[0m\u001b[0mservice_id\u001b[0m\u001b[0;34m.\u001b[0m\u001b[0mhyphenize\u001b[0m\u001b[0;34m(\u001b[0m\u001b[0;34m)\u001b[0m\u001b[0;34m\u001b[0m\u001b[0m\n",
      "\u001b[0;32m~/anaconda3/envs/python3/lib/python3.6/site-packages/botocore/client.py\u001b[0m in \u001b[0;36m_convert_to_request_dict\u001b[0;34m(self, api_params, operation_model, context)\u001b[0m\n\u001b[1;32m    643\u001b[0m             api_params, operation_model, context)\n\u001b[1;32m    644\u001b[0m         request_dict = self._serializer.serialize_to_request(\n\u001b[0;32m--> 645\u001b[0;31m             api_params, operation_model)\n\u001b[0m\u001b[1;32m    646\u001b[0m         \u001b[0;32mif\u001b[0m \u001b[0;32mnot\u001b[0m \u001b[0mself\u001b[0m\u001b[0;34m.\u001b[0m\u001b[0m_client_config\u001b[0m\u001b[0;34m.\u001b[0m\u001b[0minject_host_prefix\u001b[0m\u001b[0;34m:\u001b[0m\u001b[0;34m\u001b[0m\u001b[0m\n\u001b[1;32m    647\u001b[0m             \u001b[0mrequest_dict\u001b[0m\u001b[0;34m.\u001b[0m\u001b[0mpop\u001b[0m\u001b[0;34m(\u001b[0m\u001b[0;34m'host_prefix'\u001b[0m\u001b[0;34m,\u001b[0m \u001b[0;32mNone\u001b[0m\u001b[0;34m)\u001b[0m\u001b[0;34m\u001b[0m\u001b[0m\n",
      "\u001b[0;32m~/anaconda3/envs/python3/lib/python3.6/site-packages/botocore/validate.py\u001b[0m in \u001b[0;36mserialize_to_request\u001b[0;34m(self, parameters, operation_model)\u001b[0m\n\u001b[1;32m    295\u001b[0m                                                     operation_model.input_shape)\n\u001b[1;32m    296\u001b[0m             \u001b[0;32mif\u001b[0m \u001b[0mreport\u001b[0m\u001b[0;34m.\u001b[0m\u001b[0mhas_errors\u001b[0m\u001b[0;34m(\u001b[0m\u001b[0;34m)\u001b[0m\u001b[0;34m:\u001b[0m\u001b[0;34m\u001b[0m\u001b[0m\n\u001b[0;32m--> 297\u001b[0;31m                 \u001b[0;32mraise\u001b[0m \u001b[0mParamValidationError\u001b[0m\u001b[0;34m(\u001b[0m\u001b[0mreport\u001b[0m\u001b[0;34m=\u001b[0m\u001b[0mreport\u001b[0m\u001b[0;34m.\u001b[0m\u001b[0mgenerate_report\u001b[0m\u001b[0;34m(\u001b[0m\u001b[0;34m)\u001b[0m\u001b[0;34m)\u001b[0m\u001b[0;34m\u001b[0m\u001b[0m\n\u001b[0m\u001b[1;32m    298\u001b[0m         return self._serializer.serialize_to_request(parameters,\n\u001b[1;32m    299\u001b[0m                                                      operation_model)\n",
      "\u001b[0;31mParamValidationError\u001b[0m: Parameter validation failed:\nInvalid type for parameter Body, value:      Unnamed: 0        Age  Sex  SibSp  Parch  is_alone  calculated_fare  \\\n0             0  34.500000    1      0      0         1         7.829200   \n1             1  47.000000    0      1      0         0         3.500000   \n2             2  62.000000    1      0      0         1         9.687500   \n3             3  27.000000    1      0      0         1         8.662500   \n4             4  22.000000    0      1      1         0         4.095833   \n5             5  14.000000    1      0      0         1         9.225000   \n6             6  30.000000    0      0      0         1         7.629200   \n7             7  26.000000    1      1      1         0         9.666667   \n8             8  18.000000    0      0      0         1         7.229200   \n9             9  21.000000    1      2      0         0         8.050000   \n10           10  25.228127    1      0      0         1         7.895800   \n11           11  46.000000    1      0      0         1        26.000000   \n12           12  23.000000    0      1      0         0        41.133350   \n13           13  63.000000    1      1      0         0        13.000000   \n14           14  47.000000    0      1      0         0        30.587500   \n15           15  24.000000    0      1      0         0        13.860400   \n16           16  35.000000    1      0      0         1        12.350000   \n17           17  21.000000    1      0      0         1         7.225000   \n18           18  27.000000    0      1      0         0         3.962500   \n19           19  45.000000    0      0      0         1         7.225000   \n20           20  55.000000    1      1      0         0        29.700000   \n21           21   9.000000    1      0      1         0         1.585400   \n22           22  44.144667    0      0      0         1        31.683300   \n23           23  21.000000    1      0      1         0        30.689600   \n24           24  48.000000    0      1      3         0        52.475000   \n25           25  50.000000    1      1      0         0         7.250000   \n26           26  22.000000    0      0      1         0        30.989600   \n27           27  22.500000    1      0      0         1         7.225000   \n28           28  41.000000    1      0      0         1        30.500000   \n29           29  23.589072    1      2      0         0         7.226400   \n..          ...        ...  ...    ...    ...       ...              ...   \n388         388  21.000000    1      0      0         1         7.750000   \n389         389   6.000000    1      3      1         0         4.215000   \n390         390  23.000000    1      0      0         1        93.500000   \n391         391  51.000000    0      0      1         0        19.700000   \n392         392  13.000000    1      0      2         0         6.750000   \n393         393  47.000000    1      0      0         1        10.500000   \n394         394  29.000000    1      3      1         0         4.405000   \n395         395  18.000000    0      1      0         0        30.000000   \n396         396  24.000000    1      0      0         1         7.250000   \n397         397  48.000000    0      1      1         0        26.400000   \n398         398  22.000000    1      0      0         1         7.775000   \n399         399  31.000000    1      0      0         1         7.733300   \n400         400  30.000000    0      0      0         1       164.866700   \n401         401  38.000000    1      1      0         0        10.500000   \n402         402  22.000000    0      0      1         0        29.700000   \n403         403  17.000000    1      0      0         1        47.100000   \n404         404  43.000000    1      1      0         0        13.860400   \n405         405  20.000000    1      0      0         1        13.862500   \n406         406  23.000000    1      1      0         0         5.250000   \n407         407  50.000000    1      1      1         0        70.500000   \n408         408  22.150434    0      0      0         1         7.720800   \n409         409   3.000000    0      1      1         0         4.591667   \n410         410  27.691011    0      0      0         1         7.750000   \n411         411  37.000000    0      1      0         0        45.000000   \n412         412  28.000000    0      0      0         1         7.775000   \n413         413  23.299735    1      0      0         1         8.050000   \n414         414  39.000000    0      0      0         1       108.900000   \n415         415  38.500000    1      0      0         1         7.250000   \n416         416  23.299735    1      0      0         1         8.050000   \n417         417   7.225783    1      1      1         0         7.452767   \n\n     title_ Master  title_ Miss  title_ Mr        ...          fare_group_mid  \\\n0                0            0          1        ...                       0   \n1                0            0          0        ...                       0   \n2                0            0          1        ...                       0   \n3                0            0          1        ...                       0   \n4                0            0          0        ...                       0   \n5                0            0          1        ...                       0   \n6                0            1          0        ...                       0   \n7                0            0          1        ...                       0   \n8                0            0          0        ...                       0   \n9                0            0          1        ...                       0   \n10               0            0          1        ...                       0   \n11               0            0          1        ...                       0   \n12               0            0          0        ...                       0   \n13               0            0          1        ...                       1   \n14               0            0          0        ...                       0   \n15               0            0          0        ...                       1   \n16               0            0          1        ...                       1   \n17               0            0          1        ...                       0   \n18               0            1          0        ...                       0   \n19               0            0          0        ...                       0   \n20               0            0          1        ...                       0   \n21               1            0          0        ...                       0   \n22               0            0          0        ...                       0   \n23               0            0          1        ...                       0   \n24               0            0          0        ...                       0   \n25               0            0          1        ...                       0   \n26               0            1          0        ...                       0   \n27               0            0          1        ...                       0   \n28               0            0          1        ...                       0   \n29               0            0          1        ...                       0   \n..             ...          ...        ...        ...                     ...   \n388              0            0          1        ...                       0   \n389              1            0          0        ...                       0   \n390              0            0          1        ...                       0   \n391              0            0          0        ...                       1   \n392              1            0          0        ...                       0   \n393              0            0          1        ...                       1   \n394              0            0          1        ...                       0   \n395              0            0          0        ...                       0   \n396              0            0          1        ...                       0   \n397              0            0          0        ...                       0   \n398              0            0          1        ...                       0   \n399              0            0          1        ...                       0   \n400              0            1          0        ...                       0   \n401              0            0          1        ...                       1   \n402              0            1          0        ...                       0   \n403              0            0          1        ...                       0   \n404              0            0          1        ...                       1   \n405              0            0          1        ...                       1   \n406              0            0          1        ...                       0   \n407              0            0          1        ...                       0   \n408              0            1          0        ...                       0   \n409              0            1          0        ...                       0   \n410              0            1          0        ...                       0   \n411              0            0          0        ...                       0   \n412              0            1          0        ...                       0   \n413              0            0          1        ...                       0   \n414              0            0          0        ...                       0   \n415              0            0          1        ...                       0   \n416              0            0          1        ...                       0   \n417              1            0          0        ...                       0   \n\n     fare_group_very_high  age_group_adult  age_group_child  age_group_infant  \\\n0                       0                0                0                 0   \n1                       0                0                0                 0   \n2                       0                0                0                 0   \n3                       0                0                0                 0   \n4                       0                0                0                 0   \n5                       0                0                0                 0   \n6                       0                0                0                 0   \n7                       0                0                0                 0   \n8                       0                0                0                 0   \n9                       0                0                0                 0   \n10                      0                0                0                 0   \n11                      0                0                0                 0   \n12                      0                0                0                 0   \n13                      0                0                0                 0   \n14                      0                0                0                 0   \n15                      0                0                0                 0   \n16                      0                0                0                 0   \n17                      0                0                0                 0   \n18                      0                0                0                 0   \n19                      0                1                0                 0   \n20                      0                0                0                 0   \n21                      0                0                1                 0   \n22                      0                1                0                 0   \n23                      0                0                0                 0   \n24                      1                0                0                 0   \n25                      0                0                0                 0   \n26                      0                0                0                 0   \n27                      0                0                0                 0   \n28                      0                1                0                 0   \n29                      0                0                0                 0   \n..                    ...              ...              ...               ...   \n388                     0                0                0                 0   \n389                     0                0                1                 0   \n390                     1                0                0                 0   \n391                     0                0                0                 0   \n392                     0                0                1                 0   \n393                     0                0                0                 0   \n394                     0                0                0                 0   \n395                     0                0                0                 0   \n396                     0                0                0                 0   \n397                     0                0                0                 0   \n398                     0                0                0                 0   \n399                     0                0                0                 0   \n400                     1                0                0                 0   \n401                     0                1                0                 0   \n402                     0                0                0                 0   \n403                     1                0                0                 0   \n404                     0                1                0                 0   \n405                     0                0                0                 0   \n406                     0                0                0                 0   \n407                     1                0                0                 0   \n408                     0                0                0                 0   \n409                     0                0                0                 0   \n410                     0                0                0                 0   \n411                     0                1                0                 0   \n412                     0                0                0                 0   \n413                     0                0                0                 0   \n414                     1                1                0                 0   \n415                     0                1                0                 0   \n416                     0                0                0                 0   \n417                     0                0                1                 0   \n\n     age_group_middle_aged  age_group_old  age_group_senior_citizen  \\\n0                        0              0                         0   \n1                        1              0                         0   \n2                        0              0                         1   \n3                        0              0                         0   \n4                        0              0                         0   \n5                        0              0                         0   \n6                        0              0                         0   \n7                        0              0                         0   \n8                        0              0                         0   \n9                        0              0                         0   \n10                       0              0                         0   \n11                       1              0                         0   \n12                       0              0                         0   \n13                       0              0                         1   \n14                       1              0                         0   \n15                       0              0                         0   \n16                       0              0                         0   \n17                       0              0                         0   \n18                       0              0                         0   \n19                       0              0                         0   \n20                       1              0                         0   \n21                       0              0                         0   \n22                       0              0                         0   \n23                       0              0                         0   \n24                       1              0                         0   \n25                       1              0                         0   \n26                       0              0                         0   \n27                       0              0                         0   \n28                       0              0                         0   \n29                       0              0                         0   \n..                     ...            ...                       ...   \n388                      0              0                         0   \n389                      0              0                         0   \n390                      0              0                         0   \n391                      1              0                         0   \n392                      0              0                         0   \n393                      1              0                         0   \n394                      0              0                         0   \n395                      0              0                         0   \n396                      0              0                         0   \n397                      1              0                         0   \n398                      0              0                         0   \n399                      0              0                         0   \n400                      0              0                         0   \n401                      0              0                         0   \n402                      0              0                         0   \n403                      0              0                         0   \n404                      0              0                         0   \n405                      0              0                         0   \n406                      0              0                         0   \n407                      1              0                         0   \n408                      0              0                         0   \n409                      0              0                         0   \n410                      0              0                         0   \n411                      0              0                         0   \n412                      0              0                         0   \n413                      0              0                         0   \n414                      0              0                         0   \n415                      0              0                         0   \n416                      0              0                         0   \n417                      0              0                         0   \n\n     age_group_teenager  age_group_toddler  \n0                     0                  0  \n1                     0                  0  \n2                     0                  0  \n3                     0                  0  \n4                     0                  0  \n5                     1                  0  \n6                     0                  0  \n7                     0                  0  \n8                     1                  0  \n9                     0                  0  \n10                    0                  0  \n11                    0                  0  \n12                    0                  0  \n13                    0                  0  \n14                    0                  0  \n15                    0                  0  \n16                    0                  0  \n17                    0                  0  \n18                    0                  0  \n19                    0                  0  \n20                    0                  0  \n21                    0                  0  \n22                    0                  0  \n23                    0                  0  \n24                    0                  0  \n25                    0                  0  \n26                    0                  0  \n27                    0                  0  \n28                    0                  0  \n29                    0                  0  \n..                  ...                ...  \n388                   0                  0  \n389                   0                  0  \n390                   0                  0  \n391                   0                  0  \n392                   0                  0  \n393                   0                  0  \n394                   0                  0  \n395                   1                  0  \n396                   0                  0  \n397                   0                  0  \n398                   0                  0  \n399                   0                  0  \n400                   0                  0  \n401                   0                  0  \n402                   0                  0  \n403                   1                  0  \n404                   0                  0  \n405                   0                  0  \n406                   0                  0  \n407                   0                  0  \n408                   0                  0  \n409                   0                  1  \n410                   0                  0  \n411                   0                  0  \n412                   0                  0  \n413                   0                  0  \n414                   0                  0  \n415                   0                  0  \n416                   0                  0  \n417                   0                  0  \n\n[418 rows x 46 columns], type: <class 'pandas.core.frame.DataFrame'>, valid types: <class 'bytes'>, <class 'bytearray'>, file-like object"
     ]
    }
   ],
   "source": [
    "from sagemaker.predictor import RealTimePredictor\n",
    "\n",
    "newpredictor = RealTimePredictor(endpoint=predictor.endpoint)\n",
    "\n",
    "import pandas as pd\n",
    "raw_data =  pd.read_csv(\"data/cleaned_test.csv\", engine='python') \n",
    "            \n",
    "#print (raw_data)\n",
    "\n",
    "print(predictor.predict(raw_data))"
   ]
  },
  {
   "cell_type": "markdown",
   "metadata": {},
   "source": [
    "### Choose some data and use it for a prediction\n",
    "\n",
    "In order to do some predictions, we'll extract some of the data we used for training and do predictions against it. This is, of course, bad statistical practice, but a good way to see how the mechanism works."
   ]
  },
  {
   "cell_type": "code",
   "execution_count": null,
   "metadata": {},
   "outputs": [],
   "source": [
    "shape=pd.read_csv(TRAINING_WORKDIR + \"/iris.csv\", header=None)\n",
    "\n",
    "import itertools\n",
    "\n",
    "a = [50*i for i in range(3)]\n",
    "b = [40+i for i in range(10)]\n",
    "indices = [i+j for i,j in itertools.product(a,b)]\n",
    "\n",
    "test_data=shape.iloc[indices[:-1]]\n",
    "test_X=test_data.iloc[:,1:]\n",
    "test_y=test_data.iloc[:,0]"
   ]
  },
  {
   "cell_type": "markdown",
   "metadata": {},
   "source": [
    "Prediction is as easy as calling predict with the predictor we got back from deploy and the data we want to do predictions with. The serializers take care of doing the data conversions for us."
   ]
  },
  {
   "cell_type": "code",
   "execution_count": null,
   "metadata": {},
   "outputs": [],
   "source": [
    "print(predictor.predict(test_X.values).decode('utf-8'))"
   ]
  },
  {
   "cell_type": "markdown",
   "metadata": {},
   "source": [
    "### Cleanup Endpoint\n",
    "\n",
    "When you're done with the endpoint, you'll want to clean it up."
   ]
  },
  {
   "cell_type": "code",
   "execution_count": null,
   "metadata": {},
   "outputs": [],
   "source": [
    "sess.delete_endpoint(predictor.endpoint)"
   ]
  },
  {
   "cell_type": "markdown",
   "metadata": {},
   "source": [
    "# Part 3 - Package your resources as an Amazon SageMaker Algorithm\n",
    "(If you looking to sell a pretrained model (ModelPackage), please skip to Part 4.)\n",
    "\n",
    "Now that you have verified that the algorithm code works for training, live inference and batch inference in the above sections, you can start packaging it up as an Amazon SageMaker Algorithm."
   ]
  },
  {
   "cell_type": "markdown",
   "metadata": {},
   "source": [
    "#### Region Limitation\n",
    "Seller onboarding is limited to us-east-2 region (CMH) only. The client we are creating below will be hard-coded to talk to our us-east-2 endpoint only."
   ]
  },
  {
   "cell_type": "code",
   "execution_count": null,
   "metadata": {},
   "outputs": [],
   "source": [
    "import boto3\n",
    "\n",
    "smmp = boto3.client('sagemaker', region_name='us-east-2', endpoint_url=\"https://sagemaker.us-east-2.amazonaws.com\")"
   ]
  },
  {
   "cell_type": "markdown",
   "metadata": {},
   "source": [
    "## Algorithm Definition\n",
    "\n",
    "SageMaker Algorithm is comprised of 2 parts:\n",
    "\n",
    "1. A training image\n",
    "2. An inference image (optional)\n",
    "\n",
    "The key requirement is that the training and inference images (if provided) remain compatible with each other. Specifically, the model artifacts generated by the code in training image should be readable and compatible with the code in inference image. \n",
    "\n",
    "You can reuse the same image to perform both training and inference or you can choose to separate them. \n",
    "\n",
    "\n",
    "This sample notebook has already created a single algorithm image that perform both training and inference. This image has also been pushed to your ECR registry at {{image}}. You need to provide the following details as part of this algorithm specification:\n",
    "\n",
    "#### Training Specification\n",
    "\n",
    "You specify details pertinent to your training algorithm in this section.\n",
    "\n",
    "#### Supported Hyper-parameters\n",
    "\n",
    "This section captures the hyper-parameters your algorithm supports, their names, types, if they are required, default values, valid ranges etc. This serves both as documentation for buyers and is used by Amazon SageMaker to perform validations of buyer requests in the synchronous request path.\n",
    "\n",
    "Please Note: While this section is optional, we strongly recommend you provide comprehensive information here to leverage our validations and serve as documentation. Additionally, without this being specified, customers cannot leverage your algorithm for Hyper-parameter tuning.\n",
    "\n",
    "*** NOTE: The code below has hyper-parameters hard-coded in the json present in src/training_specification.py. Until we have better functionality to customize it, please update the json in that file appropriately***\n",
    "\n"
   ]
  },
  {
   "cell_type": "code",
   "execution_count": null,
   "metadata": {},
   "outputs": [],
   "source": [
    "from src.training_specification import TrainingSpecification\n",
    "from src.training_channels import TrainingChannels\n",
    "from src.metric_definitions import MetricDefinitions\n",
    "from src.tuning_objectives import TuningObjectives\n",
    "import json\n",
    "\n",
    "training_specification = TrainingSpecification().get_training_specification_dict(\n",
    "    ecr_image=image, \n",
    "    supports_gpu=True, \n",
    "    supported_channels=[\n",
    "        TrainingChannels(\"training\", description=\"Input channel that provides training data\", supported_content_types=[\"text/csv\"])], \n",
    "    supported_metrics=[MetricDefinitions(\"validation:accuracy\", \"validation-accuracy: (\\\\S+)\")],\n",
    "    supported_tuning_job_objective_metrics=[TuningObjectives(\"Maximize\", \"validation:accuracy\")]\n",
    "    )\n",
    "\n",
    "print(json.dumps(training_specification, indent=2, sort_keys=True))"
   ]
  },
  {
   "cell_type": "markdown",
   "metadata": {},
   "source": [
    "#### Inference Specification\n",
    "\n",
    "You specify details pertinent to your inference code in this section. \n"
   ]
  },
  {
   "cell_type": "code",
   "execution_count": null,
   "metadata": {},
   "outputs": [],
   "source": [
    "from src.inference_specification import InferenceSpecification\n",
    "import json\n",
    "\n",
    "inference_specification = InferenceSpecification().get_inference_specification_dict(\n",
    "    ecr_image=image,\n",
    "    supports_gpu=True,\n",
    "    supported_content_types=[\"text/csv\"],\n",
    "    supported_mime_types=[\"text\"])\n",
    "\n",
    "print(json.dumps(inference_specification, indent=4, sort_keys=True))\n"
   ]
  },
  {
   "cell_type": "markdown",
   "metadata": {},
   "source": [
    "#### Validation Specification\n",
    "\n",
    "In order to provide confidence to the sellers (and buyers) that the products work in Amazon SageMaker before listing them on AWS Marketplace, SageMaker needs to perform basic validations. The product can be listed in AWS Marketplace only if this validation process succeeds. This validation process uses the validation profile and sample data provided by you to run the following validations:\n",
    "\n",
    "1. Create a training job in your account to verify your training image works with SageMaker.\n",
    "2. Once the training job completes successfully, create a Model in your account using the algorithm's inference image and the model artifacts produced as part of the training job we ran. \n",
    "3. Create a transform job in your account using the above Model to verify your inference image works with SageMaker"
   ]
  },
  {
   "cell_type": "code",
   "execution_count": null,
   "metadata": {},
   "outputs": [],
   "source": [
    "from src.algorithm_validation_specification import AlgorithmValidationSpecification\n",
    "import json\n",
    "\n",
    "validation_specification = AlgorithmValidationSpecification().get_algo_validation_specification_dict(\n",
    "    validation_role = role,\n",
    "    training_channel_name = \"training\",\n",
    "    training_input = training_input,\n",
    "    batch_transform_input = transform_input,\n",
    "    content_type = \"text/csv\",\n",
    "    instance_type = \"ml.c4.xlarge\",\n",
    "    output_s3_location = 's3://{}/{}'.format(sess.default_bucket(), common_prefix))\n",
    "\n",
    "print(json.dumps(validation_specification, indent=4, sort_keys=True))"
   ]
  },
  {
   "cell_type": "markdown",
   "metadata": {},
   "source": [
    "## Putting it all together\n",
    "\n",
    "Now we put all the pieces together in the next cell and create an Amazon SageMaker Algorithm"
   ]
  },
  {
   "cell_type": "code",
   "execution_count": null,
   "metadata": {},
   "outputs": [],
   "source": [
    "import json\n",
    "import time\n",
    "\n",
    "algorithm_name = \"scikit-decision-trees-\" + str(round(time.time()))\n",
    "\n",
    "create_algorithm_input_dict = {\n",
    "    \"AlgorithmName\" : algorithm_name,\n",
    "    \"AlgorithmDescription\" : \"Decision trees using Scikit\",\n",
    "    \"CertifyForMarketplace\" : True\n",
    "}\n",
    "create_algorithm_input_dict.update(training_specification)\n",
    "create_algorithm_input_dict.update(inference_specification)\n",
    "create_algorithm_input_dict.update(validation_specification)\n",
    "\n",
    "print(json.dumps(create_algorithm_input_dict, indent=4, sort_keys=True))\n",
    "\n",
    "print (\"Now creating an algorithm in SageMaker\")\n",
    "\n",
    "smmp.create_algorithm(**create_algorithm_input_dict)"
   ]
  },
  {
   "cell_type": "markdown",
   "metadata": {},
   "source": [
    "### Describe the algorithm\n",
    "\n",
    "The next cell describes the Algorithm and waits until it reaches a terminal state (Completed or Failed)"
   ]
  },
  {
   "cell_type": "code",
   "execution_count": null,
   "metadata": {},
   "outputs": [],
   "source": [
    "import time\n",
    "import json\n",
    "\n",
    "while True:\n",
    "    response = smmp.describe_algorithm(AlgorithmName=algorithm_name)\n",
    "    status = response[\"AlgorithmStatus\"]\n",
    "    print (status)\n",
    "    if (status == \"Completed\" or status == \"Failed\"):\n",
    "        print (response[\"AlgorithmStatusDetails\"])\n",
    "        break\n",
    "    time.sleep(5)\n"
   ]
  },
  {
   "cell_type": "markdown",
   "metadata": {},
   "source": [
    "# Part 4 - Package your resources as an Amazon SageMaker ModelPackage\n",
    "\n",
    "In this section, we will see how you can package your artifacts (ECR image and the trained artifact from your previous training job) into a ModelPackage. Once you complete this, you can list your product as a pretrained model in the AWS Marketplace.\n",
    "\n",
    "## Model Package Definition\n",
    "A Model Package is a reusable model artifacts abstraction that packages all ingredients necessary for inference. It consists of an inference specification that defines the inference image to use along with an optional model weights location.\n"
   ]
  },
  {
   "cell_type": "markdown",
   "metadata": {},
   "source": [
    "#### Region Limitation\n",
    "Seller onboarding is limited to us-east-2 region (CMH) only. The client we are creating below will be hard-coded to talk to our us-east-2 endpoint only. (Note: You may have previous done this step in Part 3. Repeating here to keep Part 4 self contained.)"
   ]
  },
  {
   "cell_type": "code",
   "execution_count": null,
   "metadata": {},
   "outputs": [],
   "source": [
    "smmp = boto3.client('sagemaker', region_name='us-east-2', endpoint_url=\"https://sagemaker.us-east-2.amazonaws.com\")"
   ]
  },
  {
   "cell_type": "markdown",
   "metadata": {},
   "source": [
    "#### Inference Specification\n",
    "\n",
    "You specify details pertinent to your inference code in this section.\n"
   ]
  },
  {
   "cell_type": "code",
   "execution_count": null,
   "metadata": {},
   "outputs": [],
   "source": [
    "from src.inference_specification import InferenceSpecification\n",
    "\n",
    "import json\n",
    "\n",
    "modelpackage_inference_specification = InferenceSpecification().get_inference_specification_dict(\n",
    "    ecr_image=image,\n",
    "    supports_gpu=True,\n",
    "    supported_content_types=[\"text/csv\"],\n",
    "    supported_mime_types=[\"text\"])\n",
    "\n",
    "# Specify the model data resulting from the previously completed training job\n",
    "modelpackage_inference_specification[\"InferenceSpecification\"][\"Containers\"][0][\"ModelDataUrl\"]=tree.model_data\n",
    "print(json.dumps(modelpackage_inference_specification, indent=4, sort_keys=True))"
   ]
  },
  {
   "cell_type": "markdown",
   "metadata": {},
   "source": [
    "#### Validation Specification\n",
    "\n",
    "In order to provide confidence to the sellers (and buyers) that the products work in Amazon SageMaker before listing them on AWS Marketplace, SageMaker needs to perform basic validations. The product can be listed in the AWS Marketplace only if this validation process succeeds. This validation process uses the validation profile and sample data provided by you to run the following validations:\n",
    "\n",
    "* Create a transform job in your account using the above Model to verify your inference image works with SageMaker.\n"
   ]
  },
  {
   "cell_type": "code",
   "execution_count": null,
   "metadata": {},
   "outputs": [],
   "source": [
    "from src.modelpackage_validation_specification import ModelPackageValidationSpecification\n",
    "import json\n",
    "\n",
    "modelpackage_validation_specification = ModelPackageValidationSpecification().get_validation_specification_dict(\n",
    "    validation_role = role,\n",
    "    batch_transform_input = transform_input,\n",
    "    content_type = \"text/csv\",\n",
    "    instance_type = \"ml.c4.xlarge\",\n",
    "    output_s3_location = 's3://{}/{}'.format(sess.default_bucket(), common_prefix))\n",
    "\n",
    "print(json.dumps(modelpackage_validation_specification, indent=4, sort_keys=True))"
   ]
  },
  {
   "cell_type": "markdown",
   "metadata": {},
   "source": [
    "## Putting it all together\n",
    "\n",
    "Now we put all the pieces together in the next cell and create an Amazon SageMaker Model Package."
   ]
  },
  {
   "cell_type": "code",
   "execution_count": null,
   "metadata": {},
   "outputs": [],
   "source": [
    "import json\n",
    "import time\n",
    "\n",
    "model_package_name = \"scikit-iris-detector-\" + str(round(time.time()))\n",
    "create_model_package_input_dict = {\n",
    "    \"ModelPackageName\" : model_package_name,\n",
    "    \"ModelPackageDescription\" : \"Model to detect 3 different types of irises (Setosa, Versicolour, and Virginica)\",\n",
    "    \"CertifyForMarketplace\" : True\n",
    "}\n",
    "create_model_package_input_dict.update(modelpackage_inference_specification)\n",
    "create_model_package_input_dict.update(modelpackage_validation_specification)\n",
    "print(json.dumps(create_model_package_input_dict, indent=4, sort_keys=True))\n",
    "\n",
    "smmp.create_model_package(**create_model_package_input_dict)"
   ]
  },
  {
   "cell_type": "markdown",
   "metadata": {},
   "source": [
    "#### Describe the ModelPackage \n",
    "\n",
    "The next cell describes the ModelPackage and waits until it reaches a terminal state (Completed or Failed)"
   ]
  },
  {
   "cell_type": "code",
   "execution_count": null,
   "metadata": {},
   "outputs": [],
   "source": [
    "import time\n",
    "import json\n",
    "\n",
    "while True:\n",
    "    response = smmp.describe_model_package(ModelPackageName=model_package_name)\n",
    "    status = response[\"ModelPackageStatus\"]\n",
    "    print (status)\n",
    "    if (status == \"Completed\" or status == \"Failed\"):\n",
    "        print (response[\"ModelPackageStatusDetails\"])\n",
    "        break\n",
    "    time.sleep(5)\n"
   ]
  },
  {
   "cell_type": "markdown",
   "metadata": {},
   "source": [
    "## Debugging Creation Issues\n",
    "\n",
    "Entity creation typically never fails in the synchronous path. However, the validation process can fail for many reasons. If the above Algorithm creation fails, you can investigate the cause for the failure by looking at the \"AlgorithmStatusDetails\" field in the Algorithm object or \"ModelPackageStatusDetails\" field in the ModelPackage object. You can also look for the Training Jobs / Transform Jobs created in your account as part of our validation and inspect their logs for more hints on what went wrong. \n",
    "\n",
    "If all else fails, please contact AWS Customer Support for assistance!"
   ]
  },
  {
   "cell_type": "markdown",
   "metadata": {},
   "source": [
    "\n",
    "## List on AWS Marketplace\n",
    "\n",
    "Next, please go back to the Amazon SageMaker console, click on \"Algorithms\" (or \"Model Packages\") and you'll find the entity you created above. If it was successfully created and validated, you should be able to select the entity and \"Publish new ML Marketplace listing\" from SageMaker console.\n",
    "<img src=\"images/publish-to-marketplace-action.png\"/>"
   ]
  }
 ],
 "metadata": {
  "kernelspec": {
   "display_name": "conda_python3",
   "language": "python",
   "name": "conda_python3"
  },
  "language_info": {
   "codemirror_mode": {
    "name": "ipython",
    "version": 3
   },
   "file_extension": ".py",
   "mimetype": "text/x-python",
   "name": "python",
   "nbconvert_exporter": "python",
   "pygments_lexer": "ipython3",
   "version": "3.6.5"
  }
 },
 "nbformat": 4,
 "nbformat_minor": 2
}
